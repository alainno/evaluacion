{
 "cells": [
  {
   "cell_type": "code",
   "execution_count": 16,
   "metadata": {},
   "outputs": [],
   "source": [
    "from utils import *\n",
    "from fiber_ec import fiber_ec\n",
    "from new_distance_transform import new_distance_transform\n",
    "import pandas as pd\n",
    "# from IPython.display import display\n",
    "from tabulate import tabulate\n",
    "from skeleton_net_pp import skeleton_net_pp\n",
    "import matplotlib.pyplot as plt\n",
    "import pickle"
   ]
  },
  {
   "cell_type": "code",
   "execution_count": 26,
   "metadata": {},
   "outputs": [
    {
     "name": "stdout",
     "output_type": "stream",
     "text": [
      "+----+------------------------+--------------------------+\n",
      "|    | Método                 |   Diametro Promedio (px) |\n",
      "|----+------------------------+--------------------------|\n",
      "|  0 | Ground Truth           |                  7.60817 |\n",
      "|  1 | FIBER-EC               |                  8.25    |\n",
      "|  2 | New Distance Transform |                  8.45768 |\n",
      "|  3 | SkelNet + PP           |                  7.90747 |\n",
      "+----+------------------------+--------------------------+\n"
     ]
    }
   ],
   "source": [
    "sample_file = '_sample.png'\n",
    "sample_gt = '_sample_gt.png'\n",
    "# samples_folder = ''\n",
    "# diameter_count = {5:5, 6:6}\n",
    "\n",
    "a_file = open(\"diameter_count_gt.pkl\", \"rb\")\n",
    "diameter_count_gt = pickle.load(a_file)\n",
    "a_file.close()\n",
    "\n",
    "\n",
    "diameter_count_fec = fiber_ec(sample_file)\n",
    "diameter_count_ndt = new_distance_transform(sample_file)\n",
    "diameter_count_snp = skeleton_net_pp(sample_gt)\n",
    "\n",
    "gt_diam_mean = get_mean_diameter(diameter_count_gt)\n",
    "fec_diam_mean = get_mean_diameter(diameter_count_fec)\n",
    "ndt_diam_mean = get_mean_diameter(diameter_count_ndt)\n",
    "snp_diam_mean = get_mean_diameter(diameter_count_snp)\n",
    "\n",
    "\n",
    "mydataset = {\n",
    "  'Método': [\"Ground Truth\",\"FIBER-EC\", \"New Distance Transform\", \"SkelNet + PP\"],\n",
    "  'Diametro Promedio (px)': [gt_diam_mean, fec_diam_mean, ndt_diam_mean, snp_diam_mean]\n",
    "}\n",
    "\n",
    "df = pd.DataFrame(mydataset)\n",
    "\n",
    "print(tabulate(df, headers = 'keys', tablefmt = 'psql'))"
   ]
  },
  {
   "cell_type": "code",
   "execution_count": 22,
   "metadata": {},
   "outputs": [
    {
     "data": {
      "image/png": "[encoded data removed]",
      "text/plain": "<Figure size 432x288 with 1 Axes>"
     },
     "metadata": {
      "needs_background": "light"
     },
     "output_type": "display_data"
    }
   ],
   "source": [
    "densidades_gt = [v/sum(diameter_count_gt.values()) for v in diameter_count_gt.values()]\n",
    "densidades_fec = [v/sum(diameter_count_fec.values()) for v in diameter_count_fec.values()]\n",
    "densidades_ndt = [v/sum(diameter_count_ndt.values()) for v in diameter_count_ndt.values()]\n",
    "densidades_snp = [v/sum(diameter_count_snp.values()) for v in diameter_count_snp.values()]\n",
    "\n",
    "# plt.bar(x1, y1, width=0.4, color='r', label='Ground Truth')\n",
    "plt.bar([k-0.2 for k in diameter_count_gt.keys()], densidades_gt, width=0.2, color='skyblue', label='Ground Truth')\n",
    "plt.bar(diameter_count_fec.keys(), densidades_fec, width=0.2, color='orange', label='FIBER-EC')\n",
    "# plt.bar([k+0.2 for k in diameter_count_x.keys()], densidades_x, width=0.2, color='green', label='X')\n",
    "plt.bar([k+0.2 for k in diameter_count_ndt.keys()], densidades_ndt, width=0.2, color='green', label='New Distance Transform')\n",
    "plt.bar([k+0.4 for k in diameter_count_snp.keys()], densidades_snp, width=0.2, color='red', label='SkeletonNet + PP')\n",
    "# plt.bar(x, y, width=0.4, color='green', label='New Distance Transform')\n",
    "# plt.bar(x2, y2, width=0.4, color='blue', label='SkelNet + PP')\n",
    "\n",
    "plt.legend()\n",
    "plt.ylabel('Densidad')\n",
    "plt.xlabel('Diámetro (pixel)')\n",
    "# plt.savefig('histograma.png')\n",
    "plt.show()"
   ]
  },
  {
   "cell_type": "code",
   "execution_count": 16,
   "metadata": {},
   "outputs": [
    {
     "name": "stdout",
     "output_type": "stream",
     "text": [
      "{7: 4, 6: 1, 10: 3, 4: 1, 11: 1, 8: 1, 9: 1, 12: 1, 3: 1}\n",
      "{2.0: 18, 4.0: 187, 6.0: 29, 8.0: 245, 10.0: 282, 12.0: 41, 14.0: 8, 16.0: 1}\n"
     ]
    }
   ],
   "source": [
    "print(diameter_count_fec)\n",
    "print(diameter_count_ndt)"
   ]
  },
  {
   "cell_type": "code",
   "execution_count": null,
   "metadata": {},
   "outputs": [],
   "source": []
  }
 ],
 "metadata": {
  "kernelspec": {
   "display_name": "Python 3.7.11 64-bit",
   "name": "python3711jvsc74a57bd07a3d88c904243d2c3f246166597f86d1c0a39f3d97496d1fe394945d0c6d436d"
  },
  "language_info": {
   "codemirror_mode": {
    "name": "ipython",
    "version": 3
   },
   "file_extension": ".py",
   "mimetype": "text/x-python",
   "name": "python",
   "nbconvert_exporter": "python",
   "pygments_lexer": "ipython3",
   "version": "3.7.11"
  },
  "metadata": {
   "interpreter": {
    "hash": "7a3d88c904243d2c3f246166597f86d1c0a39f3d97496d1fe394945d0c6d436d"
   }
  },
  "orig_nbformat": 3
 },
 "nbformat": 4,
 "nbformat_minor": 2
}